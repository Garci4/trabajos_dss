{
 "cells": [
  {
   "cell_type": "code",
   "execution_count": 2,
   "id": "6dce0134-eabb-4849-aa2a-17f7ae98721d",
   "metadata": {},
   "outputs": [],
   "source": [
    "import pandas as pd"
   ]
  },
  {
   "cell_type": "code",
   "execution_count": 3,
   "id": "e02716f8-01dc-4629-902d-5f1f6d268dd2",
   "metadata": {},
   "outputs": [],
   "source": [
    "df = pd.read_csv(\"covid-cases-raw.csv\")"
   ]
  },
  {
   "cell_type": "code",
   "execution_count": 4,
   "id": "8a4f8a66-a6ef-4ec9-8fa6-78b94eaad5eb",
   "metadata": {},
   "outputs": [],
   "source": [
    "df.rename(columns = {'div_gen':'genero'}, inplace = True)"
   ]
  },
  {
   "cell_type": "code",
   "execution_count": 5,
   "id": "61ca45b3-e391-4660-81fb-41b8f9d5d4f6",
   "metadata": {},
   "outputs": [],
   "source": [
    "df.rename(columns = {'class_0008':'clasificacion'}, inplace = True)"
   ]
  },
  {
   "cell_type": "code",
   "execution_count": 6,
   "id": "89426ec2-88eb-4e24-8496-e937b172a872",
   "metadata": {},
   "outputs": [],
   "source": [
    "df.rename(columns = {'label':'unidad_medida_edad'}, inplace = True)"
   ]
  },
  {
   "cell_type": "code",
   "execution_count": 7,
   "id": "1e38e736-7dfd-47b7-a9cb-33b51aac9b94",
   "metadata": {},
   "outputs": [],
   "source": [
    "df[\"genero\"].replace(\"Masc\", \"M\", inplace=True)"
   ]
  },
  {
   "cell_type": "code",
   "execution_count": 8,
   "id": "01ba76ff-3e2a-4efb-afbb-395856a2da53",
   "metadata": {},
   "outputs": [],
   "source": [
    "df[\"genero\"].replace(\"Fem\", \"F\", inplace=True)"
   ]
  },
  {
   "cell_type": "code",
   "execution_count": 9,
   "id": "aa916d0e-4a40-4731-be88-3b679cd32f41",
   "metadata": {},
   "outputs": [
    {
     "data": {
      "text/html": [
       "<div>\n",
       "<style scoped>\n",
       "    .dataframe tbody tr th:only-of-type {\n",
       "        vertical-align: middle;\n",
       "    }\n",
       "\n",
       "    .dataframe tbody tr th {\n",
       "        vertical-align: top;\n",
       "    }\n",
       "\n",
       "    .dataframe thead th {\n",
       "        text-align: right;\n",
       "    }\n",
       "</style>\n",
       "<table border=\"1\" class=\"dataframe\">\n",
       "  <thead>\n",
       "    <tr style=\"text-align: right;\">\n",
       "      <th></th>\n",
       "      <th>id_evento_caso</th>\n",
       "      <th>genero</th>\n",
       "      <th>edad</th>\n",
       "      <th>unidad_medida_edad</th>\n",
       "      <th>fecha_inicio_sintomas</th>\n",
       "      <th>fallecido</th>\n",
       "      <th>carga_provincia_id</th>\n",
       "      <th>clasificacion</th>\n",
       "      <th>residencia_provincia_id</th>\n",
       "      <th>fecha_diagnostico</th>\n",
       "      <th>residencia_departamento_id</th>\n",
       "    </tr>\n",
       "  </thead>\n",
       "  <tbody>\n",
       "    <tr>\n",
       "      <th>0</th>\n",
       "      <td>1000000</td>\n",
       "      <td>M</td>\n",
       "      <td>54.0</td>\n",
       "      <td>Años</td>\n",
       "      <td>NaN</td>\n",
       "      <td>NO</td>\n",
       "      <td>6</td>\n",
       "      <td>Descartado</td>\n",
       "      <td>2</td>\n",
       "      <td>2020-06-09</td>\n",
       "      <td>0</td>\n",
       "    </tr>\n",
       "    <tr>\n",
       "      <th>1</th>\n",
       "      <td>10000000</td>\n",
       "      <td>F</td>\n",
       "      <td>52.0</td>\n",
       "      <td>Años</td>\n",
       "      <td>NaN</td>\n",
       "      <td>NO</td>\n",
       "      <td>2</td>\n",
       "      <td>Descartado</td>\n",
       "      <td>2</td>\n",
       "      <td>2021-04-08</td>\n",
       "      <td>0</td>\n",
       "    </tr>\n",
       "    <tr>\n",
       "      <th>2</th>\n",
       "      <td>10000001</td>\n",
       "      <td>F</td>\n",
       "      <td>22.0</td>\n",
       "      <td>Años</td>\n",
       "      <td>2021-04-05</td>\n",
       "      <td>NO</td>\n",
       "      <td>6</td>\n",
       "      <td>Descartado</td>\n",
       "      <td>6</td>\n",
       "      <td>2021-04-08</td>\n",
       "      <td>490</td>\n",
       "    </tr>\n",
       "    <tr>\n",
       "      <th>3</th>\n",
       "      <td>10000002</td>\n",
       "      <td>F</td>\n",
       "      <td>44.0</td>\n",
       "      <td>Años</td>\n",
       "      <td>NaN</td>\n",
       "      <td>NO</td>\n",
       "      <td>2</td>\n",
       "      <td>Descartado</td>\n",
       "      <td>6</td>\n",
       "      <td>2021-04-06</td>\n",
       "      <td>427</td>\n",
       "    </tr>\n",
       "    <tr>\n",
       "      <th>4</th>\n",
       "      <td>10000003</td>\n",
       "      <td>F</td>\n",
       "      <td>34.0</td>\n",
       "      <td>Años</td>\n",
       "      <td>NaN</td>\n",
       "      <td>NO</td>\n",
       "      <td>2</td>\n",
       "      <td>Descartado</td>\n",
       "      <td>2</td>\n",
       "      <td>2021-04-08</td>\n",
       "      <td>1</td>\n",
       "    </tr>\n",
       "  </tbody>\n",
       "</table>\n",
       "</div>"
      ],
      "text/plain": [
       "   id_evento_caso genero  edad unidad_medida_edad fecha_inicio_sintomas  \\\n",
       "0         1000000      M  54.0               Años                   NaN   \n",
       "1        10000000      F  52.0               Años                   NaN   \n",
       "2        10000001      F  22.0               Años            2021-04-05   \n",
       "3        10000002      F  44.0               Años                   NaN   \n",
       "4        10000003      F  34.0               Años                   NaN   \n",
       "\n",
       "  fallecido  carga_provincia_id clasificacion  residencia_provincia_id  \\\n",
       "0        NO                   6    Descartado                        2   \n",
       "1        NO                   2    Descartado                        2   \n",
       "2        NO                   6    Descartado                        6   \n",
       "3        NO                   2    Descartado                        6   \n",
       "4        NO                   2    Descartado                        2   \n",
       "\n",
       "  fecha_diagnostico  residencia_departamento_id  \n",
       "0        2020-06-09                           0  \n",
       "1        2021-04-08                           0  \n",
       "2        2021-04-08                         490  \n",
       "3        2021-04-06                         427  \n",
       "4        2021-04-08                           1  "
      ]
     },
     "execution_count": 9,
     "metadata": {},
     "output_type": "execute_result"
    }
   ],
   "source": [
    "df.head()"
   ]
  },
  {
   "cell_type": "code",
   "execution_count": null,
   "id": "63006fd9-127a-4b1c-be30-59030ae76fbb",
   "metadata": {},
   "outputs": [],
   "source": []
  }
 ],
 "metadata": {
  "kernelspec": {
   "display_name": "Python 3 (ipykernel)",
   "language": "python",
   "name": "python3"
  },
  "language_info": {
   "codemirror_mode": {
    "name": "ipython",
    "version": 3
   },
   "file_extension": ".py",
   "mimetype": "text/x-python",
   "name": "python",
   "nbconvert_exporter": "python",
   "pygments_lexer": "ipython3",
   "version": "3.8.10"
  }
 },
 "nbformat": 4,
 "nbformat_minor": 5
}
