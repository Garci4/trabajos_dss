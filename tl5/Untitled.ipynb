{
 "cells": [
  {
   "cell_type": "markdown",
   "id": "ee4b33a5-c8d4-4e31-9eca-08b1b406a550",
   "metadata": {},
   "source": [
    "## svm\n",
    "\n",
    "### Ventajas y desventajas\n",
    "\n",
    "Las maquinas de vectores de soporte, son un conjunto de algoritmos de aprendizaje supervisado. Aunque principalmente fueron pensados para resolver problemas de clasificación, actualmente se utilizan para resolver otros tipos de problemas como: Regresión, agrupación y multiclasificación.\n",
    "\n",
    "Las SVMs, tienen sus ventajas y desventajas:\n",
    "\n",
    "Ventajas\n",
    "- Efectivo en espacios de alta dimensión.\n",
    "- Sigue siendo efectivo en casos donde el número de dimensiones es mayor que el número de muestras.\n",
    "- Utiliza un subconjunto de puntos de entrenamiento en la función de decisión (llamados vectores de soporte), por lo que también es eficiente desde el punto de vista de la memoria.\n",
    "- Versátil: se pueden especificar diferentes funciones del Kernel para la función de decisión. Se proporcionan núcleos comunes, pero también es posible especificar kernels personalizados.\n",
    "\n",
    "Desventajas:\n",
    "\n",
    "- Si la cantidad de funciones es mucho mayor que la cantidad de muestras, evite el ajuste excesivo al elegir las funciones Kernel y el término de regularización es crucial.\n",
    "- Las SVM no proporcionan estimaciones de probabilidad directamente, estas se calculan utilizando una costosa validación cruzada de cinco veces \n",
    "\n"
   ]
  }
 ],
 "metadata": {
  "kernelspec": {
   "display_name": "Python 3 (ipykernel)",
   "language": "python",
   "name": "python3"
  },
  "language_info": {
   "codemirror_mode": {
    "name": "ipython",
    "version": 3
   },
   "file_extension": ".py",
   "mimetype": "text/x-python",
   "name": "python",
   "nbconvert_exporter": "python",
   "pygments_lexer": "ipython3",
   "version": "3.8.10"
  }
 },
 "nbformat": 4,
 "nbformat_minor": 5
}
